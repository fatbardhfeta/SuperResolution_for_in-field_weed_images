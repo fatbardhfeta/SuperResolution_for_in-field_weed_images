{
 "cells": [
  {
   "cell_type": "markdown",
   "metadata": {},
   "source": [
    "## Downscale masks using majority voting\n"
   ]
  },
  {
   "cell_type": "code",
   "execution_count": null,
   "metadata": {},
   "outputs": [],
   "source": [
    "from PIL import Image\n",
    "import os\n",
    "import numpy as np\n",
    "from scipy.ndimage import generic_filter\n",
    "\n",
    "def majority_vote_filter(data):\n",
    "    # Calculate the most common pixel value within the window\n",
    "    values, counts = np.unique(data, return_counts=True)\n",
    "    return values[np.argmax(counts)]\n",
    "\n",
    "def downsample_images(source_dir, destination_dir, scale_factor):\n",
    "    if not os.path.exists(destination_dir):\n",
    "        os.makedirs(destination_dir)\n",
    "\n",
    "    for filename in os.listdir(source_dir):\n",
    "        if filename.endswith('.png'):\n",
    "            image_path = os.path.join(source_dir, filename)\n",
    "            image = Image.open(image_path)\n",
    "            \n",
    "            # Convert the image to a NumPy array for processing\n",
    "            image_array = np.array(image)\n",
    "            \n",
    "            # Define the size of the downscaled image\n",
    "            new_width = image_array.shape[1] // scale_factor\n",
    "            new_height = image_array.shape[0] // scale_factor\n",
    "            \n",
    "            # Define the size of the neighborhood window\n",
    "            neighborhood_size = scale_factor\n",
    "            \n",
    "            # Apply the majority voting filter for downsampling\n",
    "            downscaled_image_array = generic_filter(\n",
    "                image_array, function=majority_vote_filter, size=(neighborhood_size, neighborhood_size)\n",
    "            )\n",
    "            \n",
    "            # Convert the downscaled NumPy array back to an image\n",
    "            downscaled_image = Image.fromarray(downscaled_image_array.astype(np.uint8))\n",
    "            \n",
    "            # Save the downscaled image to the destination directory\n",
    "            destination_path = os.path.join(destination_dir, filename)\n",
    "            downscaled_image.save(destination_path)\n",
    "            \n",
    "            print(f\"Image {filename} downscaled and saved to {destination_path}\")\n",
    "\n",
    "if __name__ == \"__main__\":\n",
    "    source_directory = \"/home/fatbardhf/segm_validation_code_model/patches/valid/masks\"\n",
    "    destination_directory = \"/home/fatbardhf/segm_validation_code_model/patches/valid_6m_baseline/masks\"\n",
    "    scale_factor = 2\n",
    "    \n",
    "    downsample_images(source_directory, destination_directory, scale_factor)\n"
   ]
  }
 ],
 "metadata": {
  "language_info": {
   "name": "python"
  },
  "orig_nbformat": 4
 },
 "nbformat": 4,
 "nbformat_minor": 2
}
